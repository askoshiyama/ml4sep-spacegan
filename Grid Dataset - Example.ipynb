{
 "cells": [
  {
   "cell_type": "code",
   "execution_count": 1,
   "metadata": {},
   "outputs": [
    {
     "name": "stderr",
     "output_type": "stream",
     "text": [
      "C:\\Users\\Koshiyama\\Anaconda3\\lib\\site-packages\\libpysal\\weights\\util.py:19: UserWarning: geopandas not available. Some functionality will be disabled.\n",
      "  warn('geopandas not available. Some functionality will be disabled.')\n",
      "C:\\Users\\Koshiyama\\Anaconda3\\lib\\site-packages\\pysal\\lib\\weights\\util.py:19: UserWarning: geopandas not available. Some functionality will be disabled.\n",
      "  warn('geopandas not available. Some functionality will be disabled.')\n"
     ]
    }
   ],
   "source": [
    "%matplotlib inline\n",
    "import os\n",
    "import pandas as pd\n",
    "import numpy as np\n",
    "import torch\n",
    "import torch.nn as nn\n",
    "from sklearn.preprocessing import StandardScaler, MinMaxScaler, RobustScaler, QuantileTransformer\n",
    "import matplotlib.pyplot as plt\n",
    "import matplotlib.cm as cm\n",
    "\n",
    "import spacegan_utils\n",
    "import spacegan_method\n",
    "import spacegan_selection\n",
    "import spacegan_config\n",
    "import warnings\n",
    "warnings.simplefilter(\"ignore\")\n",
    "cur_dir = os.getcwd()"
   ]
  },
  {
   "cell_type": "markdown",
   "metadata": {},
   "source": [
    "## Dataset"
   ]
  },
  {
   "cell_type": "code",
   "execution_count": 2,
   "metadata": {},
   "outputs": [
    {
     "data": {
      "text/plain": [
       "Text(0.5,1,'Observed')"
      ]
     },
     "execution_count": 2,
     "metadata": {},
     "output_type": "execute_result"
    },
    {
     "data": {
      "image/png": "[encoded data removed]",
      "text/plain": [
       "<Figure size 504x360 with 1 Axes>"
      ]
     },
     "metadata": {},
     "output_type": "display_data"
    }
   ],
   "source": [
    "# dataset\n",
    "df = pd.read_csv(\"grid.csv\")\n",
    "coord_vars = [\"longitude\", \"latitude\"]\n",
    "cond_vars = [\"z\"] + coord_vars\n",
    "output_vars = [\"y\"]\n",
    "neighbours = 8\n",
    "\n",
    "# plotting\n",
    "fig, ax1 = plt.subplots(1, 1, figsize=(7, 5))\n",
    "gen_seq = df[[\"y\"]].values.astype(float)\n",
    "norm_gan_mean = (gen_seq - min(gen_seq)) / (max(gen_seq) - min(gen_seq))\n",
    "colors = cm.rainbow(norm_gan_mean)\n",
    "\n",
    "# plotting\n",
    "for lat, long, c in zip(df[\"latitude\"], df[\"longitude\"], colors):\n",
    "    ax1.scatter(lat, long, color=c)\n",
    "ax1.set_xlabel(r'$c^{(1)}$', fontsize=14)\n",
    "ax1.set_ylabel(r'$c^{(2)}$', fontsize=14)\n",
    "ax1.set_title(\"Observed\")"
   ]
  },
  {
   "cell_type": "markdown",
   "metadata": {},
   "source": [
    "# SpaceGAN Config"
   ]
  },
  {
   "cell_type": "markdown",
   "metadata": {},
   "source": [
    "## Training config"
   ]
  },
  {
   "cell_type": "code",
   "execution_count": 3,
   "metadata": {},
   "outputs": [],
   "source": [
    "# problem configuration\n",
    "results_path = \"./Results/\"\n",
    "prob_config = {\"epochs\": 5001,\n",
    "               \"batch_size\": 100,\n",
    "               \"device\": torch.device(\"cuda\"),\n",
    "               \"cond_dim\": len(cond_vars) + neighbours,  # conditional information size\n",
    "               \"output_dim\": len(output_vars),  # size of output\n",
    "               \"noise_dim\": len(cond_vars) + neighbours,  # size of noise\n",
    "               \"noise_type\": spacegan_utils.gaussian,  # type of noise and dimension used\n",
    "               \"noise_params\": None,  # other params for noise (loc, scale, etc.) pass as a dict\n",
    "               \"scale_x\": StandardScaler(),  # a sklearn.preprocessing scaling method\n",
    "               \"scale_y\": StandardScaler(),  # a sklearn.preprocessing scaling method\n",
    "               \"print_results\": False\n",
    "               }"
   ]
  },
  {
   "cell_type": "markdown",
   "metadata": {},
   "source": [
    "## Networks"
   ]
  },
  {
   "cell_type": "code",
   "execution_count": 4,
   "metadata": {},
   "outputs": [],
   "source": [
    "# Generator architecture\n",
    "class Generator(nn.Module):\n",
    "    def __init__(self, cond_dim, noise_dim, output_dim):\n",
    "        super(Generator, self).__init__()\n",
    "\n",
    "        self.model = nn.Sequential(\n",
    "            nn.Linear(cond_dim + noise_dim, 50),\n",
    "            nn.ReLU(),\n",
    "            nn.Linear(50, output_dim)\n",
    "        )\n",
    "\n",
    "    def forward(self, z, cond_info):\n",
    "        input_data = torch.cat([z, cond_info], dim=1).float()\n",
    "        data = self.model(input_data).float()\n",
    "        return data\n",
    "\n",
    "# additional Generator params\n",
    "prob_config[\"gen_opt\"] = torch.optim.SGD\n",
    "prob_config[\"gen_opt_params\"] = {\"lr\": 0.01}\n",
    "\n",
    "# Discriminator architecture\n",
    "class Discriminator(nn.Module):\n",
    "    def __init__(self, output_dim, cond_dim):\n",
    "        super(Discriminator, self).__init__()\n",
    "\n",
    "        self.model = nn.Sequential(\n",
    "            nn.Linear(output_dim + cond_dim, 50),\n",
    "            nn.Tanh(),\n",
    "            nn.Linear(50, 1),\n",
    "            nn.Sigmoid()\n",
    "        )\n",
    "\n",
    "    def forward(self, data, cond_info):\n",
    "        input_data = torch.cat([data, cond_info], dim=1).float()\n",
    "        validity = self.model(input_data).float()\n",
    "        return validity\n",
    "    \n",
    "# additional Discriminator params\n",
    "prob_config[\"disc_opt\"] = torch.optim.SGD\n",
    "prob_config[\"disc_opt_params\"] = {\"lr\": 0.01}\n",
    "\n",
    "# loss function\n",
    "prob_config[\"adversarial_loss\"] = torch.nn.BCELoss()"
   ]
  },
  {
   "cell_type": "markdown",
   "metadata": {},
   "source": [
    "## Selection config"
   ]
  },
  {
   "cell_type": "code",
   "execution_count": 5,
   "metadata": {},
   "outputs": [],
   "source": [
    "# checkpointing configuration\n",
    "check_config = {\n",
    "    \"check_interval\": 100,  # for model checkpointing\n",
    "    \"generate_image\": False,\n",
    "    \"n_samples\": 100,\n",
    "    \"perf_metrics\": {\"RMSE\": spacegan_utils.rmse,\n",
    "                     \"MIE\": spacegan_utils.mie,\n",
    "                     },\n",
    "    \"pf_metrics_setting\": {\n",
    "        \"RMSE\": {\"metric_level\": \"agg_metrics\",\n",
    "             \"rank_function\": np.argmin,\n",
    "             \"agg_function\": lambda x: np.array(x)\n",
    "             },\n",
    "        \"MIE\": {\"metric_level\": \"agg_metrics\",\n",
    "                \"rank_function\": np.argmin,\n",
    "                \"agg_function\": lambda x: np.array(x)\n",
    "               },\n",
    "    },\n",
    "    \"agg_funcs\": {\"avg\": np.mean,\n",
    "                  \"std\": np.std\n",
    "                 },\n",
    "    \"sample_metrics\": False,\n",
    "    \"agg_metrics\": True\n",
    "}"
   ]
  },
  {
   "cell_type": "markdown",
   "metadata": {},
   "source": [
    "# SpaceGAN - Main"
   ]
  },
  {
   "cell_type": "markdown",
   "metadata": {},
   "source": [
    "## Training"
   ]
  },
  {
   "cell_type": "code",
   "execution_count": null,
   "metadata": {},
   "outputs": [
    {
     "name": "stdout",
     "output_type": "stream",
     "text": [
      "[Epoch 1940/5001] [D loss: 0.689259] [G loss: 0.704094]\r"
     ]
    }
   ],
   "source": [
    "os.chdir(results_path)\n",
    "\n",
    "# neighbours\n",
    "df, neighbour_list = spacegan_utils.get_neighbours_featurize(df, coord_vars, output_vars, neighbours)\n",
    "\n",
    "# data structures\n",
    "target = df[output_vars].values\n",
    "cond_input = df[cond_vars + neighbour_list].values\n",
    "coord_input = df[coord_vars].values\n",
    "prob_config[\"output_labels\"] = output_vars\n",
    "prob_config[\"input_labels\"] = cond_vars + neighbour_list\n",
    "\n",
    "# pre-instantiation\n",
    "disc_method = Discriminator(prob_config[\"output_dim\"], prob_config[\"cond_dim\"])\n",
    "disc_method.to(prob_config[\"device\"])\n",
    "gen_method = Generator(prob_config[\"cond_dim\"], prob_config[\"noise_dim\"], prob_config[\"output_dim\"])\n",
    "gen_method.to(prob_config[\"device\"])\n",
    "\n",
    "# training SpaceGAN\n",
    "spacegan = spacegan_method.SpaceGAN(prob_config, check_config, disc_method, gen_method)\n",
    "spacegan.train(x_train=cond_input, y_train=target, coords=coord_input)\n",
    "\n",
    "# export final model and data\n",
    "spacegan.checkpoint_model(spacegan.epochs) \n",
    "spacegan.df_losses.to_pickle(\"grid_spaceganlosses.pkl.gz\")"
   ]
  },
  {
   "cell_type": "markdown",
   "metadata": {},
   "source": [
    "## Selection - Best"
   ]
  },
  {
   "cell_type": "code",
   "execution_count": null,
   "metadata": {},
   "outputs": [],
   "source": [
    "# computing metrics\n",
    "gan_metrics = spacegan_selection.compute_metrics(target, cond_input, prob_config, check_config, coord_input, neighbours)\n",
    "\n",
    "# selecting and sampling gan\n",
    "for criteria in list(check_config[\"perf_metrics\"].keys()):\n",
    "    # find best config\n",
    "    criteria_info = check_config[\"pf_metrics_setting\"][criteria]\n",
    "    perf_metrics = gan_metrics[criteria_info[\"metric_level\"]]\n",
    "    perf_values = criteria_info[\"agg_function\"](perf_metrics[[criteria]])\n",
    "    best_config = perf_metrics.index[criteria_info[\"rank_function\"](perf_values)]\n",
    "\n",
    "    # get and set best space gan\n",
    "    best_spacegan = spacegan_selection.get_spacegan_config(int(best_config), prob_config, check_config, cond_input, target)\n",
    "    # training samples\n",
    "    gan_samples_df = pd.DataFrame(index=range(cond_input.shape[0]), columns=cond_vars + neighbour_list + output_vars)\n",
    "    gan_samples_df[cond_vars + neighbour_list] = cond_input\n",
    "    gan_samples_df[output_vars] = target\n",
    "    for i in range(check_config[\"n_samples\"]):\n",
    "        gan_samples_df[\"sample_\" + str(i)] = best_spacegan.predict(gan_samples_df[cond_vars + neighbour_list])\n",
    "\n",
    "    # export results\n",
    "    gan_samples_df.to_pickle(\"grid_\" + criteria + \".pkl.gz\")\n",
    "gan_metrics[\"agg_metrics\"].to_pickle(\"grid_checkmetrics.pkl.gz\")\n",
    "\n",
    "# show highlights\n",
    "fig, (ax1, ax2) = plt.subplots(1, 2, figsize=(15, 5))\n",
    "gan_metrics[\"agg_metrics\"].plot(ax=ax1)\n",
    "\n",
    "# generate chart\n",
    "gen_seq = gan_samples_df[[\"sample_\" + str(x) for x in range(100)]].mean(axis=1)\n",
    "norm_gan_mean = (gen_seq - min(gen_seq)) / (max(gen_seq) - min(gen_seq))\n",
    "colors = cm.rainbow(norm_gan_mean)\n",
    "\n",
    "# plotting\n",
    "for lat, long, c in zip(df[\"latitude\"], df[\"longitude\"], colors):\n",
    "    ax2.scatter(lat, long, color=c)\n",
    "ax2.set_xlabel(r'$c^{(1)}$', fontsize=14)\n",
    "ax2.set_ylabel(r'$c^{(2)}$', fontsize=14)\n",
    "ax2.set_title(\"SpaceGAN - Best \" + criteria)"
   ]
  },
  {
   "cell_type": "markdown",
   "metadata": {},
   "source": [
    "## Selection - Pick the one you like!"
   ]
  },
  {
   "cell_type": "code",
   "execution_count": null,
   "metadata": {},
   "outputs": [],
   "source": [
    "iteration = 500\n",
    "\n",
    "# get and set best space gan\n",
    "iter_spacegan = spacegan_selection.get_spacegan_config(iteration, prob_config, check_config, cond_input, target)\n",
    "\n",
    "# training samples\n",
    "gan_samples_df = pd.DataFrame(index=range(cond_input.shape[0]), columns=cond_vars + neighbour_list + output_vars)\n",
    "gan_samples_df[cond_vars + neighbour_list] = cond_input\n",
    "gan_samples_df[output_vars] = target\n",
    "for i in range(check_config[\"n_samples\"]):\n",
    "    gan_samples_df[\"sample_\" + str(i)] = iter_spacegan.predict(gan_samples_df[cond_vars + neighbour_list])\n",
    "    \n",
    "# generate chart\n",
    "fig, ax1 = plt.subplots(1, 1, figsize=(7, 5))\n",
    "gen_seq = gan_samples_df[[\"sample_\" + str(x) for x in range(100)]].mean(axis=1)\n",
    "norm_gan_mean = (gen_seq - min(gen_seq)) / (max(gen_seq) - min(gen_seq))\n",
    "colors = cm.rainbow(norm_gan_mean)\n",
    "\n",
    "# plotting\n",
    "for lat, long, c in zip(df[\"latitude\"], df[\"longitude\"], colors):\n",
    "    ax1.scatter(lat, long, color=c)\n",
    "ax1.set_xlabel(r'$c^{(1)}$', fontsize=14)\n",
    "ax1.set_ylabel(r'$c^{(2)}$', fontsize=14)\n",
    "ax1.set_title(\"SpaceGAN - Iteration \" + str(iteration))"
   ]
  }
 ],
 "metadata": {
  "kernelspec": {
   "display_name": "Python 3",
   "language": "python",
   "name": "python3"
  },
  "language_info": {
   "codemirror_mode": {
    "name": "ipython",
    "version": 3
   },
   "file_extension": ".py",
   "mimetype": "text/x-python",
   "name": "python",
   "nbconvert_exporter": "python",
   "pygments_lexer": "ipython3",
   "version": "3.6.5"
  }
 },
 "nbformat": 4,
 "nbformat_minor": 2
}
